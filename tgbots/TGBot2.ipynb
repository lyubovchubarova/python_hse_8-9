{
  "nbformat": 4,
  "nbformat_minor": 0,
  "metadata": {
    "colab": {
      "name": "TGBot2.ipynb",
      "provenance": [],
      "collapsed_sections": []
    },
    "kernelspec": {
      "display_name": "Python 3",
      "language": "python",
      "name": "python3"
    },
    "language_info": {
      "codemirror_mode": {
        "name": "ipython",
        "version": 3
      },
      "file_extension": ".py",
      "mimetype": "text/x-python",
      "name": "python",
      "nbconvert_exporter": "python",
      "pygments_lexer": "ipython3",
      "version": "3.7.1"
    }
  },
  "cells": [
    {
      "cell_type": "markdown",
      "metadata": {
        "id": "_PY6DR1XVqhM"
      },
      "source": [
        "# Телеграм бот 2: функциональность"
      ]
    },
    {
      "cell_type": "markdown",
      "metadata": {
        "id": "_FLioScqeIJd"
      },
      "source": [
        "## Привязка данных к пользователю\n",
        "\n",
        "Допустим, что мы хотим сделать бота, который запоминает фразу, а потом, по просьбе пользователя, напоминает ее ему. Чтобы решить эту задачу, нам понадобится где-то хранить последнее сообщение пользователя.\n",
        "\n",
        "Если мы будем использовать переменную, то сможем сохранить сообщение только одного пользователя. Например, Ваня попросил запомнить слово linguist. Мы положили эту строку в переменную note. Потом Василиса попросила запомнить слово elephant, и мы снова положили это в переменную note. Когда Ваня попросит нас напомнить его последнее сообщение, мы напишем ему elephant вместо linguist. Неуспех!\n",
        "\n",
        "Удобнее всего хранить все данные, которые привязаны к конкретному пользователю, в словаре. Ключем в этом словаре будет id пользователя, а значением - произвольные данные.\n",
        "\n",
        "Допустим, что наш словарь называется ```notes```. Теперь, когда Ваня (```id1076```) пришлет слово linguist мы положим его в ```notes[1076]```, а слово elephant от Василисы (```id1402```) - в ```notes[1402]```. Так как теперь мы используем разные переменные для хранения слова, сообщения от разных пользователей не будут путаться."
      ]
    },
    {
      "cell_type": "code",
      "metadata": {
        "id": "z3kYJgtugEtV"
      },
      "source": [
        "import telebot\n",
        "import conf\n",
        "\n",
        "bot = telebot.TeleBot(conf.token)\n",
        "\n",
        "#создаем словарь\n",
        "notes = {}\n",
        "\n",
        "@bot.message_handler(commands=['remind'])\n",
        "def remind(message):\n",
        "    user_id = message.chat.id\n",
        "    if user_id not in notes:\n",
        "        bot.send_message(user_id, \"Вы мне еще не писали.\")\n",
        "    else:\n",
        "        bot.send_message(user_id, notes[user_id])\n",
        "\n",
        "@bot.message_handler(content_types=['text'])\n",
        "def remember(message):\n",
        "    user_id = message.chat.id\n",
        "    notes[user_id] = message.text\n",
        "    bot.send_message(user_id, \"Я запомнил\")\n",
        "\n",
        "bot.polling(none_stop=True)"
      ],
      "execution_count": null,
      "outputs": []
    },
    {
      "cell_type": "markdown",
      "metadata": {
        "id": "mAlTKpsPkbKU"
      },
      "source": [
        "## Кнопки\n",
        "\n",
        "Как добавить несколько кнопок к сообщению и реагировать на их нажатия?"
      ]
    },
    {
      "cell_type": "code",
      "metadata": {
        "id": "grpXLwaWkn1N"
      },
      "source": [
        "import telebot\n",
        "from telebot import types\n",
        "\n",
        "import conf\n",
        "\n",
        "bot = telebot.TeleBot(conf.token)\n",
        "\n",
        "@bot.message_handler(commands=[\"start\"])\n",
        "def repeat_all_messages(message):\n",
        "    # создаем клавиатуру\n",
        "    keyboard = types.InlineKeyboardMarkup()\n",
        "\n",
        "    # добавляем на нее две кнопки\n",
        "    button1 = types.InlineKeyboardButton(text=\"Кнопка 1\", callback_data=\"button1\")\n",
        "    button2 = types.InlineKeyboardButton(text=\"Кнопка 2\", callback_data=\"button2\")\n",
        "    keyboard.add(button1)\n",
        "    keyboard.add(button2)\n",
        "\n",
        "    # отправляем сообщение пользователю\n",
        "    bot.send_message(message.chat.id, \"Нажмите кнопку!\", reply_markup=keyboard)\n",
        "\n",
        "# функция запустится, когда пользователь нажмет на кнопку\n",
        "@bot.callback_query_handler(func=lambda call: True)\n",
        "def callback_inline(call):\n",
        "    if call.message:\n",
        "        if call.data == \"button1\":\n",
        "            bot.send_message(call.message.chat.id, \"Вы нажали на первую кнопку.\")\n",
        "        if call.data == \"button2\":\n",
        "            bot.send_message(call.message.chat.id, \"Вы нажали на вторую кнопку.\")\n",
        "\n",
        "bot.polling(none_stop=True)"
      ],
      "execution_count": null,
      "outputs": []
    },
    {
      "cell_type": "markdown",
      "metadata": {
        "id": "qlRTvLVy1fPg"
      },
      "source": [
        "Можно задать параметры клавиатуры, например, количество рядов кнопок, ширину рядов:"
      ]
    },
    {
      "cell_type": "code",
      "metadata": {
        "id": "hr9RFlUx1gc2"
      },
      "source": [
        "markup = types.ReplyKeyboardMarkup(row_width=2) # по умолчанию 3\n",
        "itembtna = types.KeyboardButton('a')\n",
        "itembtnv = types.KeyboardButton('b')\n",
        "itembtnc = types.KeyboardButton('c')\n",
        "itembtnd = types.KeyboardButton('d')\n",
        "itembtne = types.KeyboardButton('e')\n",
        "markup.row(itembtna, itembtnv)\n",
        "markup.row(itembtnc, itembtnd, itembtne)\n",
        "tb.send_message(chat_id, \"Choose one letter:\", reply_markup=markup)"
      ],
      "execution_count": null,
      "outputs": []
    },
    {
      "cell_type": "markdown",
      "metadata": {
        "id": "cwt7tyzt2HTl"
      },
      "source": [
        "Скрывает присланную клавиатуру:"
      ]
    },
    {
      "cell_type": "code",
      "metadata": {
        "id": "HI6F-MVO2IM2"
      },
      "source": [
        "markup = types.ReplyKeyboardRemove()\n",
        "tb.send_message(chat_id, message, reply_markup=markup)"
      ],
      "execution_count": null,
      "outputs": []
    },
    {
      "cell_type": "markdown",
      "metadata": {
        "id": "QpksaRT82U6u"
      },
      "source": [
        "Заставляет пользователя ответить на сообщение:"
      ]
    },
    {
      "cell_type": "code",
      "metadata": {
        "id": "VTEJjtl92Z6e"
      },
      "source": [
        "markup = types.ForceReply()\n",
        "tb.send_message(chat_id, \"Send me another word:\", reply_markup=markup)"
      ],
      "execution_count": null,
      "outputs": []
    },
    {
      "cell_type": "markdown",
      "metadata": {
        "id": "UQv5Ak_IL7OK"
      },
      "source": [
        "## Какие еще есть функции?"
      ]
    },
    {
      "cell_type": "code",
      "metadata": {
        "id": "Ux0AIRK9MHY4"
      },
      "source": [
        "# sendMessage\n",
        "tb.send_message(chat_id, text)\n",
        "\n",
        "# editMessageText\n",
        "tb.edit_message_text(new_text, chat_id, message_id)\n",
        "\n",
        "# forwardMessage\n",
        "tb.forward_message(to_chat_id, from_chat_id, message_id)\n",
        "\n",
        "# All send_xyz functions which can take a file as an argument, can also take a file_id instead of a file.\n",
        "# sendPhoto\n",
        "photo = open('/tmp/photo.png', 'rb')\n",
        "tb.send_photo(chat_id, photo)\n",
        "tb.send_photo(chat_id, \"FILEID\")\n",
        "\n",
        "# sendAudio\n",
        "audio = open('/tmp/audio.mp3', 'rb')\n",
        "tb.send_audio(chat_id, audio)\n",
        "tb.send_audio(chat_id, \"FILEID\")\n",
        "\n",
        "## sendAudio with duration, performer and title.\n",
        "tb.send_audio(CHAT_ID, file_data, 1, 'eternnoir', 'pyTelegram')\n",
        "\n",
        "# sendVoice\n",
        "voice = open('/tmp/voice.ogg', 'rb')\n",
        "tb.send_voice(chat_id, voice)\n",
        "tb.send_voice(chat_id, \"FILEID\")\n",
        "\n",
        "# sendDocument\n",
        "doc = open('/tmp/file.txt', 'rb')\n",
        "tb.send_document(chat_id, doc)\n",
        "tb.send_document(chat_id, \"FILEID\")\n",
        "\n",
        "# sendSticker\n",
        "sti = open('/tmp/sti.webp', 'rb')\n",
        "tb.send_sticker(chat_id, sti)\n",
        "tb.send_sticker(chat_id, \"FILEID\")\n",
        "\n",
        "# sendVideo\n",
        "video = open('/tmp/video.mp4', 'rb')\n",
        "tb.send_video(chat_id, video)\n",
        "tb.send_video(chat_id, \"FILEID\")\n",
        "\n",
        "# sendVideoNote\n",
        "videonote = open('/tmp/videonote.mp4', 'rb')\n",
        "tb.send_video_note(chat_id, videonote)\n",
        "tb.send_video_note(chat_id, \"FILEID\")\n",
        "\n",
        "# sendLocation\n",
        "tb.send_location(chat_id, lat, lon)\n",
        "\n",
        "# sendChatAction\n",
        "# action_string can be one of the following strings: 'typing', 'upload_photo', 'record_video', 'upload_video',\n",
        "# 'record_audio', 'upload_audio', 'upload_document' or 'find_location'.\n",
        "tb.send_chat_action(chat_id, action_string)\n",
        "\n",
        "# getFile\n",
        "# Downloading a file is straightforward\n",
        "# Returns a File object\n",
        "import requests\n",
        "file_info = tb.get_file(file_id)\n",
        "\n",
        "file = requests.get('https://api.telegram.org/file/bot{0}/{1}'.format(TOKEN, file_info.file_path))"
      ],
      "execution_count": null,
      "outputs": []
    },
    {
      "cell_type": "markdown",
      "metadata": {
        "id": "7GGnfCsnvp1E"
      },
      "source": [
        "## Как отправить и как скачать стикер?\n",
        "\n",
        "Сначала нужно узнать ID стикера. Отправьте любой стикер боту @idsticker_bot, и он вернёт Вам ID."
      ]
    },
    {
      "cell_type": "code",
      "metadata": {
        "id": "PM3sWFOfv5Wg"
      },
      "source": [
        "@bot.message_handler(content_types=[\"text\"])\n",
        "def text(message):\n",
        "    if message.text == 'sticker':\n",
        "        bot.send_sticker(message.chat.id, 'тут ID стикера')"
      ],
      "execution_count": null,
      "outputs": []
    },
    {
      "cell_type": "markdown",
      "metadata": {
        "id": "KA2vFR66wLcn"
      },
      "source": [
        "Если пользователь пришлёт слово sticker, то мы отправим ему стикер. Используем метод send_sticker.\n",
        "\n",
        "А как сохранить на комп присланный стикер?"
      ]
    },
    {
      "cell_type": "code",
      "metadata": {
        "id": "kt0DemBew-S5"
      },
      "source": [
        "@bot.message_handler(content_types=[\"sticker\"])\n",
        "def handle_docs_audio(message):\n",
        "    # получаем ID стикера\n",
        "    sticker_id = message.sticker.file_id\n",
        "    # получаем путь, где лежит файл стикера на сервере телеграма\n",
        "    file_info = bot.get_file(sticker_id)\n",
        "    # скачиваем файл\n",
        "    urllib.request.urlretrieve(f'http://api.telegram.org/file/bot{config.token}/{file_info.file_path}', file_info.file_path)"
      ],
      "execution_count": null,
      "outputs": []
    },
    {
      "cell_type": "markdown",
      "metadata": {
        "id": "MRfzSwJVyeM4"
      },
      "source": [
        "Простой бот, который отвечает текстом или стикером, в зависимости от послания пользователя:"
      ]
    },
    {
      "cell_type": "code",
      "metadata": {
        "id": "JF3JJ1QZylrJ"
      },
      "source": [
        "import telebot\n",
        "import conf \n",
        "\n",
        "bot = telebot.TeleBot(conf.token)\n",
        "\n",
        "@bot.message_handler(commands=['start'])\n",
        "def start_message(message):\n",
        "    bot.send_message(message.chat.id, 'Привет, ты написал мне, ура!')\n",
        "\n",
        "@bot.message_handler(content_types=['text'])\n",
        "def send_text(message):\n",
        "    if message.text.lower() == 'привет':\n",
        "        bot.send_message(message.chat.id, 'Привет, лингвист!')\n",
        "    elif message.text.lower() == 'пока':\n",
        "        bot.send_message(message.chat.id, 'Пока, лингвист!')\n",
        "    elif message.text.lower() == 'люблю программировать':\n",
        "        bot.send_sticker(message.chat.id, 'тут ID стикера')\n",
        "\n",
        "@bot.message_handler(content_types=['sticker'])\n",
        "def sticker_id(message):\n",
        "    print(message)\n",
        "    \n",
        "bot.polling()"
      ],
      "execution_count": null,
      "outputs": []
    },
    {
      "cell_type": "markdown",
      "metadata": {
        "id": "c9Ag3dFNgxZK"
      },
      "source": [
        "## Как отправить длинное текстовое сообщение?\n",
        "\n",
        "Если Вы хотите отправить сообщение, где больше 5000 символов, его придется разбить"
      ]
    },
    {
      "cell_type": "code",
      "metadata": {
        "id": "gNYsPI0rg806"
      },
      "source": [
        "from telebot import util\n",
        "\n",
        "large_text = open(\"large_text.txt\", \"rb\").read()\n",
        "\n",
        "# разобьем текст на 3000 символов\n",
        "# split_string возвращает список разбитых кусочков текста\n",
        "splitted_text = util.split_string(large_text, 3000)\n",
        "for text in splitted_text:\n",
        "\ttb.send_message(chat_id, text)"
      ],
      "execution_count": null,
      "outputs": []
    },
    {
      "cell_type": "markdown",
      "metadata": {
        "id": "9X1TGw3XpExu"
      },
      "source": [
        "## Как обратиться к пользователю по имени?\n",
        "\n",
        "Объект ```message``` содержит ин-фу о пользователе; чтобы получить имя, нужно использовать ```message.from_user.first_name```"
      ]
    },
    {
      "cell_type": "code",
      "metadata": {
        "id": "cPaGQqHHpODs"
      },
      "source": [
        "import telebot\n",
        "import conf\n",
        "\n",
        "bot = telebot.TeleBot(conf.token)\n",
        "\n",
        "@bot.message_handler(commands=['start'])\n",
        "def send_welcome(message):\n",
        "    bot.reply_to(message, \"Привет, \" + message.from_user.first_name + \"!\")\n",
        "\n",
        "bot.polling()"
      ],
      "execution_count": null,
      "outputs": []
    },
    {
      "cell_type": "markdown",
      "metadata": {
        "id": "SFJBfmXIqAKi"
      },
      "source": [
        "Чтобы узнать больше опций, можно просто распечатать:"
      ]
    },
    {
      "cell_type": "code",
      "metadata": {
        "id": "OURXO6eCqIur"
      },
      "source": [
        "def send_welcome(message):\n",
        "    print(message.from_user)"
      ],
      "execution_count": null,
      "outputs": []
    },
    {
      "cell_type": "markdown",
      "metadata": {
        "id": "Dc0zf2Fshdkt"
      },
      "source": [
        "## Logging\n",
        "\n",
        "Можно использовать logger из модуля telebot:"
      ]
    },
    {
      "cell_type": "code",
      "metadata": {
        "id": "sXMe6cgLidLX"
      },
      "source": [
        "import logging\n",
        "\n",
        "logger = telebot.logger\n",
        "telebot.logger.setLevel(logging.DEBUG) # Outputs debug messages to console."
      ],
      "execution_count": null,
      "outputs": []
    },
    {
      "cell_type": "markdown",
      "metadata": {
        "id": "Gi5TD11ZnTJU"
      },
      "source": [
        "## Ущё чуть-чуть про ```polling```\n",
        "\n",
        "\n",
        "- none_stop: True/False (default False) - не прекращай запрашивать, пока не получишь от серверов Телеграма ошибку\n",
        "- interval: True/False (default False) - интервал между запросами, модификация приводит к замедлению реакции бота \n",
        "- timeout: integer (default 20) - промежутки в секундах\n"
      ]
    },
    {
      "cell_type": "code",
      "metadata": {
        "id": "A5Ctr6pEnbF4"
      },
      "source": [
        "bot.polling(none_stop=False, interval=0, timeout=20)"
      ],
      "execution_count": null,
      "outputs": []
    }
  ]
}
