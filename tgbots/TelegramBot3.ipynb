{
  "nbformat": 4,
  "nbformat_minor": 0,
  "metadata": {
    "kernelspec": {
      "display_name": "Python 3",
      "language": "python",
      "name": "python3"
    },
    "language_info": {
      "codemirror_mode": {
        "name": "ipython",
        "version": 3
      },
      "file_extension": ".py",
      "mimetype": "text/x-python",
      "name": "python",
      "nbconvert_exporter": "python",
      "pygments_lexer": "ipython3",
      "version": "3.6.7"
    },
    "colab": {
      "name": "TelegramBot2.ipynb",
      "provenance": []
    }
  },
  "cells": [
    {
      "cell_type": "markdown",
      "metadata": {
        "id": "1hG_Ttc-xqnP"
      },
      "source": [
        "# TG3: использование моделей\n",
        "\n",
        "# Пример бота: разметка\n",
        "\n",
        "Предположим у вас есть тысячи отзывов на кинофильмы, и вам нужно их разметить как \"положительные\", \"отрицательные\" или \"нейтральные\". Вы можете сделать бота, который будет отправлять юзеру какой-то отзыв из нашего списка и клавиатуру с кнопками \"+\", \"-\", \"=\", а затем бот будет записывать ответы. Бота мы можем отправить друзьям, чтобы они помогли нам с разметкой. =)\n",
        "\n",
        "Результаты мы будем записывать в файл `results.csv`, а хранить служебную информацию о том, кто разметчик и какие отзывы мы ему прислали, будем складывать \"на полку\" — [shelve](https://docs.python.org/3/library/shelve.html). Это встроенная питоновская библиотека, позволяющая создавать мини-базу данных, где можно хранить файлы в виде \"ключ-значение\". Ничто не мешает нам одновременно с этим записывать id разметчиков в файл с результатами.\n",
        "\n",
        "[Файл `reviews.csv`](https://github.com/hse-ling-python/seminars/blob/master/chatbots/telegram/reviews.csv)"
      ]
    },
    {
      "cell_type": "code",
      "metadata": {
        "id": "fzh4UbCexqnV"
      },
      "source": [
        "# -*- coding: utf-8 -*-\n",
        "# импортируем модули\n",
        "import telebot\n",
        "import conf\n",
        "import random\n",
        "import shelve\n",
        "from telebot import types\n",
        "\n",
        "\n",
        "bot = telebot.TeleBot(conf.TOKEN)\n",
        "\n",
        "# предположим, отзывы у нас хранятся в виде csv-файла с номерами отзывов и собственно текстами\n",
        "with open('reviews.csv', 'r', encoding='utf-8') as f:\n",
        "    reviews = {}  # создадим словать отзывов\n",
        "    for line in f:\n",
        "        num, text = line.strip().split('\\t')\n",
        "        reviews[num] = text\n",
        "review_keys = list(reviews.keys())  # и отдельно массив ключей\n",
        "\n",
        "\n",
        "# собираем клавиатуру для разметки (возможно имеет смысл добавить кнопку \"не знаю\"?)\n",
        "keyboard = types.ReplyKeyboardMarkup(row_width=3)\n",
        "btn1 = types.KeyboardButton('+')\n",
        "btn2 = types.KeyboardButton('-')\n",
        "btn3 = types.KeyboardButton('=')\n",
        "keyboard.add(btn1, btn2, btn3)\n",
        "\n",
        "\n",
        "# shelve используется как мини-база данных, там можно хранить файлы в виде \"ключ-значение\"\n",
        "# в этой базе мы будем хранить информацию о том, какой отзыв мы недавно прислали юзеру\n",
        "shelve_name = 'shelve.db'  # Файл с хранилищем\n",
        "\n",
        "def set_user_review(chat_id, review):\n",
        "    \"\"\"\n",
        "    Записываем юзера в базу данных и запоминаем номер отзыва, который мы ему дали\n",
        "    \"\"\"\n",
        "    with shelve.open(shelve_name) as storage:\n",
        "        storage[str(chat_id)] = review\n",
        "\n",
        "\n",
        "def get_user_review(chat_id):\n",
        "    \"\"\"\n",
        "    Вспоминаем, какой отзыв мы отправили на разметку\n",
        "    :return: (str) Номер отзыва / None\n",
        "    \"\"\"\n",
        "    with shelve.open(shelve_name) as storage:\n",
        "        try:\n",
        "            review = storage[str(chat_id)]\n",
        "            return review\n",
        "        # Если человека нет в базе, ничего не возвращаем\n",
        "        except KeyError:\n",
        "            return None\n",
        "\n",
        "# этот обработчик запускает функцию send_welcome, когда пользователь отправляет команду /help\n",
        "@bot.message_handler(commands=['help'])\n",
        "def send_welcome(message):\n",
        "    bot.send_message(message.chat.id, \"Здравствуйте! Это бот для разметки отзывов на кинофильмы.\\n Положительные отзывы отмечаются плюсом +, отрицательные минусом -, а нейтральные знаком равно =.\")\n",
        "\n",
        "\n",
        "# этот обработчик запускает функцию, когда пользователь отправляет команду /start\n",
        "@bot.message_handler(commands=['start'])\n",
        "def send_first_review(message):\n",
        "    review_num = random.choice(review_keys)\n",
        "    bot.send_message(message.chat.id, reviews[review_num], reply_markup=keyboard)\n",
        "    set_user_review(message.chat.id, review_num)\n",
        "\n",
        "\n",
        "@bot.message_handler(regexp='[-+=]')  # этот обработчик реагирует на символы разметки и записывает результаты\n",
        "def get_answer(message):\n",
        "    review_num = get_user_review(message.chat.id)  # проверяем, есть ли юзер в базе данных\n",
        "    if review_num:\n",
        "        # если есть, открываем файл с результатами и записываем туда разметку\n",
        "        with open('results.csv', 'a', encoding='utf-8') as results:\n",
        "            results.write(review_num + '\\t' + message.text + '\\n')\n",
        "        # и сразу отправляем новый отзыв\n",
        "        review_num = random.choice(review_keys)\n",
        "        bot.send_message(message.chat.id, reviews[review_num], reply_markup=keyboard)\n",
        "        set_user_review(message.chat.id, review_num)\n",
        "    else:\n",
        "        # если нет, то что-нибудь говорим об этом\n",
        "        bot.send_message(message.chat.id, 'Вы не разметили отзыв.')"
      ],
      "execution_count": null,
      "outputs": []
    },
    {
      "cell_type": "code",
      "metadata": {
        "id": "GrkQIU78xqnX"
      },
      "source": [
        "if __name__ == '__main__':\n",
        "    bot.polling(none_stop=True)"
      ],
      "execution_count": null,
      "outputs": []
    },
    {
      "cell_type": "markdown",
      "metadata": {
        "id": "otb3g-NFxqna"
      },
      "source": [
        "\n",
        "# Марковские цепи\n",
        "\n",
        "> **Цепь Маркова** *(англ. Markov chain)* — последовательность случайных событий с конечным или счётным числом исходов, характеризующаяся тем, что при фиксированном настоящем будущее независимо от прошлого. Процесс в каждый момент времени находится в одном из состояний.\n",
        "\n",
        "[Вот хороший тьюториал](https://tproger.ru/translations/markov-chains/), где подробно (с картинками!) описан процесс работы этого алгоритма и дан пример написания генератора текста на основе цепи Маркова с нуля. В этом полезно разобраться на досуге, хотя все уже сделано за нас. Есть несколько питоновских библиотек для генерации текста с помощью марковских цепей — например, `markovify`. [Вот ее документация](https://github.com/jsvine/markovify)."
      ]
    },
    {
      "cell_type": "code",
      "metadata": {
        "id": "W3xmcP0Lxqnb"
      },
      "source": [
        "!pip install markovify"
      ],
      "execution_count": null,
      "outputs": []
    },
    {
      "cell_type": "code",
      "metadata": {
        "id": "H4sh54MGxqnc",
        "outputId": "670cc717-a68c-45a3-db4c-523732fad3ea"
      },
      "source": [
        "import pandas as pd\n",
        "\n",
        "provs = pd.read_csv('dal_proverbs.csv', sep='\\t', encoding='utf-8')\n",
        "provs.head()"
      ],
      "execution_count": null,
      "outputs": [
        {
          "output_type": "execute_result",
          "data": {
            "text/html": [
              "<div>\n",
              "<style scoped>\n",
              "    .dataframe tbody tr th:only-of-type {\n",
              "        vertical-align: middle;\n",
              "    }\n",
              "\n",
              "    .dataframe tbody tr th {\n",
              "        vertical-align: top;\n",
              "    }\n",
              "\n",
              "    .dataframe thead th {\n",
              "        text-align: right;\n",
              "    }\n",
              "</style>\n",
              "<table border=\"1\" class=\"dataframe\">\n",
              "  <thead>\n",
              "    <tr style=\"text-align: right;\">\n",
              "      <th></th>\n",
              "      <th>proverb</th>\n",
              "      <th>topic</th>\n",
              "    </tr>\n",
              "  </thead>\n",
              "  <tbody>\n",
              "    <tr>\n",
              "      <th>0</th>\n",
              "      <td>Жить — богу служить.</td>\n",
              "      <td>Бог — Вера</td>\n",
              "    </tr>\n",
              "    <tr>\n",
              "      <th>1</th>\n",
              "      <td>Кто велик, яко бог наш (Влад. Моном.).</td>\n",
              "      <td>Бог — Вера</td>\n",
              "    </tr>\n",
              "    <tr>\n",
              "      <th>2</th>\n",
              "      <td>Не нам, не нам, но имени твоему (т. е. слава).</td>\n",
              "      <td>Бог — Вера</td>\n",
              "    </tr>\n",
              "    <tr>\n",
              "      <th>3</th>\n",
              "      <td>Велико имя господне на земли.</td>\n",
              "      <td>Бог — Вера</td>\n",
              "    </tr>\n",
              "    <tr>\n",
              "      <th>4</th>\n",
              "      <td>В мале бог, и в велике бог.</td>\n",
              "      <td>Бог — Вера</td>\n",
              "    </tr>\n",
              "  </tbody>\n",
              "</table>\n",
              "</div>"
            ],
            "text/plain": [
              "                                          proverb       topic\n",
              "0                            Жить — богу служить.  Бог — Вера\n",
              "1          Кто велик, яко бог наш (Влад. Моном.).  Бог — Вера\n",
              "2  Не нам, не нам, но имени твоему (т. е. слава).  Бог — Вера\n",
              "3                   Велико имя господне на земли.  Бог — Вера\n",
              "4                     В мале бог, и в велике бог.  Бог — Вера"
            ]
          },
          "metadata": {
            "tags": []
          },
          "execution_count": 29
        }
      ]
    },
    {
      "cell_type": "code",
      "metadata": {
        "id": "1Lb0aRmCxqnk",
        "outputId": "223ef446-89db-43f8-8e8b-23ff0a9c7916"
      },
      "source": [
        "shuffled = provs.sample(frac=1)\n",
        "train = ' '.join(shuffled.proverb)\n",
        "train[:200]"
      ],
      "execution_count": null,
      "outputs": [
        {
          "output_type": "execute_result",
          "data": {
            "text/plain": [
              "'Будет он меня помнить. В поле съезжаются, родом не считаются (от местничества). На безлюдье и Фома дворянин. На безлюдье и сидни в честь. В Москве все найдешь, кроме птичьего молока. Гусаром игры не з'"
            ]
          },
          "metadata": {
            "tags": []
          },
          "execution_count": 31
        }
      ]
    },
    {
      "cell_type": "code",
      "metadata": {
        "id": "J_VUUmrtxqnm"
      },
      "source": [
        "import markovify\n",
        "\n",
        "m = markovify.Text(train)"
      ],
      "execution_count": null,
      "outputs": []
    },
    {
      "cell_type": "code",
      "metadata": {
        "id": "JDYgA9G0xqnn",
        "outputId": "d1ff3b23-40e0-4942-ff61-494a59bf0346"
      },
      "source": [
        "for i in range(5):\n",
        "    print(m.make_sentence())"
      ],
      "execution_count": null,
      "outputs": [
        {
          "output_type": "stream",
          "text": [
            "Не думай, как бы взять, а никто не пришлет, а с должником расплатись!\n",
            "Хоть тресни синица, а не видена золотая.\n",
            "Не учили, покуда поперек лавки ложился; а во сне грезится.\n",
            "Не загадывай в год, а завтра — свиней пасти.\n",
            "Что поставят, то глядим.\n"
          ],
          "name": "stdout"
        }
      ]
    },
    {
      "cell_type": "code",
      "metadata": {
        "id": "pj18QQ2Ixqno",
        "outputId": "339d549a-12c4-4b94-efbe-830fb4149cf5"
      },
      "source": [
        "for i in range(5):\n",
        "    print(m.make_short_sentence(max_chars=100))"
      ],
      "execution_count": null,
      "outputs": [
        {
          "output_type": "stream",
          "text": [
            "Даст бог счастье — на кокорник, в среду встал да палку взял, тот и ветху рад.\n",
            "Жить в соседах — быть без грибов.\n",
            "Запрос в карман посадил.\n",
            "Полюбил его, как собака с волком не травится, поп попом не судится.\n",
            "Покорился да в разуме тверд.\n"
          ],
          "name": "stdout"
        }
      ]
    },
    {
      "cell_type": "markdown",
      "metadata": {
        "id": "vOy0PJXpxqnp"
      },
      "source": [
        "## Задание\n",
        "\n",
        "Напишите простого бота, который присылет пользователю сгенерированную с помощью марковской цепи фразу. Пользователь может ввести желаемую длину фразы, а если он этого не сделал, то шлем фразу произвольной длины. Обучить марковскую цепь можно на чем угодно. Чем больше будет объем обучающих данных, тем интереснее будут результаты! А чтобы было не скучно, можно смешать несколько разных по тематике и стилю текстов.\n",
        "\n",
        "[Пример реализации](https://github.com/hse-ling-python/seminars/tree/master/different_api/basic_bot)"
      ]
    },
    {
      "cell_type": "markdown",
      "metadata": {
        "id": "mV7CzSGczM0O"
      },
      "source": [
        "# Пример бота с несколькими моделями\n",
        "\n",
        "https://github.com/hse-ling-python/seminars/tree/master/chatbots/ml_bot"
      ]
    }
  ]
}