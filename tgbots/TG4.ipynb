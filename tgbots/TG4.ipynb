{
  "nbformat": 4,
  "nbformat_minor": 0,
  "metadata": {
    "kernelspec": {
      "display_name": "Python 3",
      "language": "python",
      "name": "python3"
    },
    "language_info": {
      "codemirror_mode": {
        "name": "ipython",
        "version": 3
      },
      "file_extension": ".py",
      "mimetype": "text/x-python",
      "name": "python",
      "nbconvert_exporter": "python",
      "pygments_lexer": "ipython3",
      "version": "3.6.0"
    },
    "colab": {
      "name": "TG4",
      "provenance": []
    }
  },
  "cells": [
    {
      "cell_type": "markdown",
      "metadata": {
        "id": "Av0UDI5zU0hh"
      },
      "source": [
        "#TG4: запуск бота на сервере\n",
        "\n",
        "# Вебхуки и Flask\n",
        "\n",
        "Long Polling постоянно опрашивает сервера, но если сервер не ответил боту, бот может упасть. Вместо поллинга лучше использовать вебхуки (ссылки, к которым будут обращаться серверы телеграма). \n",
        "\n",
        "Для того, чтобы вебхуки заработали, нам нужен полноценный веб-сервер (как вы помните, программа, которая умеет посылать и принимать http(s) запросы). К счастью, мы с вами знакомы с Flask, так что в качестве веб-сервера мы напишем небольшое приложение на фласке, которое будет посредником между нашим ботом и телеграмом.\n",
        "\n",
        "Начнем с того, что выложим бот на [www.pythonanywhere.com/](https://www.pythonanywhere.com/) - ресурс, где можно бесплатно хостить небольшие приложения. Приложением может быть какой-то сайт или собственно наш бот.\n",
        "\n",
        "Чтобы выкладывать приложения, нужно зайти на сайт и зарегистрироваться (мы это уже сделали, когда выкладывали сайт). \n",
        "\n",
        "   - Обратите внимание, что ваш юзернейм будет адресом вашего приложения. Например, если у вас юзернейм noname, то ваше приложение будет доступно по адресу noname.pythonanywhere.com. \n",
        "    \n",
        "   - После регистрации нужно будет подтвердить свой почтовый адрес.\n",
        "    \n",
        "Теперь в наш файл с конфигурациями нужно добавить информацию о нашем хосте. Вот так должен выглядеть `conf.py`:"
      ]
    },
    {
      "cell_type": "code",
      "metadata": {
        "collapsed": true,
        "id": "2VKtF9BAU0hi"
      },
      "source": [
        "TOKEN = \"здесь токен\"\n",
        "WEBHOOK_HOST = 'ВАШ ЮЗЕРНЕЙМ.pythonanywhere.com'\n",
        "WEBHOOK_PORT = '443'  \n",
        "# телеграм может работать с портами 443, 80, 88 или 8443\n",
        "# при этом pythonanywhere разрешает использовать только порт 443 - стандартный https порт"
      ],
      "execution_count": null,
      "outputs": []
    },
    {
      "cell_type": "markdown",
      "metadata": {
        "id": "KmycWaJmU0hl"
      },
      "source": [
        "А вот так теперь будет выглядеть наш основной код:"
      ]
    },
    {
      "cell_type": "code",
      "metadata": {
        "collapsed": true,
        "id": "g9L0GMaHU0ho"
      },
      "source": [
        "# -*- coding: utf-8 -*-\n",
        "import flask\n",
        "import telebot\n",
        "import conf\n",
        "\n",
        "WEBHOOK_URL_BASE = \"https://{}:{}\".format(conf.WEBHOOK_HOST, conf.WEBHOOK_PORT)\n",
        "WEBHOOK_URL_PATH = \"/{}/\".format(conf.TOKEN)\n",
        "\n",
        "bot = telebot.TeleBot(conf.TOKEN, threaded=False)  # бесплатный аккаунт pythonanywhere запрещает работу с несколькими тредами\n",
        "\n",
        "# удаляем предыдущие вебхуки, если они были\n",
        "bot.remove_webhook()\n",
        "\n",
        "# ставим новый вебхук = Слышь, если кто мне напишет, стукни сюда — url\n",
        "bot.set_webhook(url=WEBHOOK_URL_BASE+WEBHOOK_URL_PATH)\n",
        "\n",
        "app = flask.Flask(__name__)\n",
        "\n",
        "# этот обработчик запускает функцию send_welcome, когда пользователь отправляет команды /start или /help\n",
        "@bot.message_handler(commands=['start', 'help'])\n",
        "def send_welcome(message):\n",
        "\tbot.send_message(message.chat.id, \"Здравствуйте! Это бот, который считает длину вашего сообщения.\")\n",
        "\n",
        "\n",
        "@bot.message_handler(func=lambda m: True)  # этот обработчик реагирует все прочие сообщения\n",
        "def send_len(message):\n",
        "\tbot.send_message(message.chat.id, 'В вашем сообщении {} символов.'.format(len(message.text)))\n",
        "\n",
        "    \n",
        "# пустая главная страничка для проверки\n",
        "@app.route('/', methods=['GET', 'HEAD'])\n",
        "def index():\n",
        "    return 'ok'\n",
        "\n",
        "\n",
        "# обрабатываем вызовы вебхука = функция, которая запускается, когда к нам постучался телеграм \n",
        "@app.route(WEBHOOK_URL_PATH, methods=['POST'])\n",
        "def webhook():\n",
        "    if flask.request.headers.get('content-type') == 'application/json':\n",
        "        json_string = flask.request.get_data().decode('utf-8')\n",
        "        update = telebot.types.Update.de_json(json_string)\n",
        "        bot.process_new_updates([update])\n",
        "        return ''\n",
        "    else:\n",
        "        flask.abort(403)"
      ],
      "execution_count": null,
      "outputs": []
    },
    {
      "cell_type": "markdown",
      "metadata": {
        "id": "ejRMeOdwU0hp"
      },
      "source": [
        "К боту мы добавили две строчки: `bot.remove_webhook()` и `bot.set_webhook(...)`. Кроме того мы создали приложение фласка `app = flask.Flask(__name__)`, которое откликается, когда телеграм нам постучится по ссылке `WEBHOOK_URL_PATH`.\n",
        "\n",
        "Если мы будем выкладывать бота на pythonanywhere, то этого достаточно (остальное pythonanywhere сделает за нас). Если мы будем выкладывать бота куда-то еще (на свой сервер или, к примеру, на Heroku), то в конце кода нужно добавить строчку `app.run(...)` как описано в этом [примере](https://github.com/eternnoir/pyTelegramBotAPI/blob/master/examples/webhook_examples/webhook_flask_echo_bot.py)."
      ]
    },
    {
      "cell_type": "markdown",
      "metadata": {
        "id": "obfz7B8VU0hr"
      },
      "source": [
        "# Выкладываем\n",
        "\n",
        "Выкладывать приложения просто:\n",
        "\n",
        "**1.** Когда вы заходите на сайт, вы автоматически попадаете в Консоли (__Consoles__). Для начала нам нужно настроить окружение, в котором мы будем работать: поставить питон нужной версии, установить нужные нам модули.\n",
        "\n",
        "  - Нажимаем __Bash__. Пишем там команды:\n",
        "   - `mkvirtualenv myvirtualenv --python=/usr/bin/python3.7` - это создаст виртуальное окружение с названием myvirtualenv. На самом деле в вашей папке `/home/ВАШ_ЮЗЕРНЕЙМ/` появится папка `.virtualenvs`, а в ней - папка `myvirtualenv`, в которой будет установлен ваш собственный новый отдельный питон3.7.\n",
        "   - `pip install flask` - это установит в ваше виртуальное окружение фласк\n",
        "   - `pip install pyTelegramBotAPI` - это установит в ваше виртуальное окружение модуль pyTelegramBotAPI\n",
        "   - `which python` - эта команда распечатает путь к вашему питону, он нам понадобится. Там будет что-то такое: `/home/ВАШ_ЮЗЕРНЕЙМ/.virtualenvs/myvirtualenv/bin/python`. \n",
        "   \n",
        "<p style=\"color:red\">** Действия, описанные с этого момента и до конца пункта №1 нужны только для телеграм-ботов! Для обычных flask-приложений вебхуки и ssl вам не понадобятся! Соответственно, в скрипте и конфигах обычного flask-приложения про них тоже ничего быть не должно!**</p>\n",
        "\n",
        "Чтобы вебхуки заработали, нужно иметь SSL-сертификат (комплект из окрытого и закрытого ключей, ипользующихся в протоколе HTTPS для установки защищенного канала при помощи ассиметричного шифрования), т.к. вебхуки в телеграме работают только по HTTPS. Мы создадим [самоподписанный сертификат](https://ru.wikipedia.org/wiki/%D0%A1%D0%B0%D0%BC%D0%BE%D0%B7%D0%B0%D0%B2%D0%B5%D1%80%D0%B5%D0%BD%D0%BD%D1%8B%D0%B9_%D1%81%D0%B5%D1%80%D1%82%D0%B8%D1%84%D0%B8%D0%BA%D0%B0%D1%82), потому что это быстро и просто, но на самом деле самоподписанные сертификаты не являются надежными, и в продакшене лучше использовать  какой-нибудь публичный центр сертификации, например, [Let's Encrypt](https://help.pythonanywhere.com/pages/LetsEncrypt/). \n",
        "    - `openssl genrsa -out webhook_pkey.pem 2048` - генерируем приватный ключ\n",
        "    - `openssl req -new -x509 -days 3650 -key webhook_pkey.pem -out webhook_cert.pem` - генерируем самоподписанный сертификат\n",
        "    - После этой команды вам предложат ввести информацию о себе: страна, организация, емейл и т.д. Можно не вводить эти данные, а вместо них ставить точку, но когда дойдете до предложения ввести **Common Name**, следует написать адрес сервера, на котором будет запущен бот - т.е. `ВАШ ЮЗЕРНЕЙМ.pythonanywhere.com`.\n",
        "    - После этого в вашей домашней директории `/home/ВАШ_ЮЗЕРНЕЙМ/` появится два файла: `webhook_pkey.pem` и `webhook_cert.pem`.\n",
        "\n",
        "**2.** Чтобы создать приложение на фласке, нужно перейти в Веб (__Web__) - или пройти по ссылке `https://www.pythonanywhere.com/user/ВАШ_ЮЗЕРНЕЙМ/webapps/` - и нажать кнопку __`Add a new web app`__\n",
        "\n",
        "  - Вам сообщат, что адрес сайта будет связан с вашим юзернеймом. Кликаем Next.\n",
        "  - Теперь нужно выбрать фреймворк, на котором написан сайт. Кликаем Flask.\n",
        "  - Теперь нужно выбрать версию питона. Кликаем на ту, которой вы пользовались, когда писали приложение. Например, Python 3.7.\n",
        "  - Нужно ввести путь к файлу с приложением на сервере. Вам автоматически предлагают что-то вроде `/home/ВАШ_ЮЗЕРНЕЙМ/mysite/flask_app.py`, но я, например, поменяю на  `/home/ЮЗЕРНЕЙМ/mysite/my_app.py`, потому что мой код приложения на фласке находится в файле my_app.py. `mysite` - это название папки, в которой будет жить наш бот.\n",
        "  - во вкладке Веб (__Web__) нужно найти секцию `Virtualenv` и вставить туда путь к нашему виртуальному окружению, например, что-то такое: `/home/ВАШ_ЮЗЕРНЕЙМ/.virtualenvs/myvirtualenv`.\n",
        "  - В секции `Code` нужно найти `WSGI configuration file` и кликнуть на этот файл, затем нам нужно заменить его содержимое на такой код (`ВАШ ЮЗЕРНЕЙМ` надо заменить на ваш юзернейм, и не забудьте сохранить - зеленая кнопка SAVE наверху):"
      ]
    },
    {
      "cell_type": "code",
      "metadata": {
        "collapsed": true,
        "id": "46hmwYc1U0ht"
      },
      "source": [
        "import sys\n",
        "\n",
        "path = '/home/ВАШ ЮЗЕРНЕЙМ/НАЗВАНИЕ ПАПКИ С БОТОМ'  # например, /home/ЮЗЕРНЕЙМ/mysite\n",
        "if path not in sys.path:\n",
        "    sys.path.append(path)\n",
        "\n",
        "from my_app import app as application  # my_app - это название файла с кодом (фласк + бот)\n",
        "\n",
        "application.config['DEBUG'] = True\n",
        "application.config['ssl_context'] = ('/home/ВАШ ЮЗЕРНЕЙМ/webhook_cert.pem', '/home/ВАШ ЮЗЕРНЕЙМ/webhook_pkey.pem')"
      ],
      "execution_count": null,
      "outputs": []
    },
    {
      "cell_type": "markdown",
      "metadata": {
        "id": "9zm0j5kLU0hu"
      },
      "source": [
        "**3.** Теперь у нас все готово, осталось только загрузить наши файлы с кодом на сервер.  \n",
        "    \n",
        "  - Переходим во вкладку Файлы (__Files__), мы попадаем в домашнюю папку (`/home/ВАШ ЮЗЕРНЕЙМ/`). В интерфейсе слева находятся папки (Directories), а справа - файлы. \n",
        "  - Находим папку с нашим приложением (`mysite`), переходим в нее. В эту папку нужно загрузить наш файл `my_app.py` с кодом бота и папку `conf.py` с конфигурациями. Интерфейс там довольно понятный: новую папку можно создать слева, загрузить файл - справа.\n",
        "  - (На самом деле, файлы можно не грузить руками. Вместо этого, можно сначала выложить весь ваш сайт на гитхаб, а потом зайти в Консоли (__Consoles__), и оттуда склонировать ваш реп с сайтом на сервер pythonanywhere в папку `mysite` командой `git clone ССЫЛКА_С_ГИТХАБА mysite`. Но игнорируемые файлы все равно нужно будет загрузить руками!)\n",
        "\n",
        "Чтобы запустить бота, нужно вернуться во вкладку Веб (__Web__) и перезапустить приложение - кликаем большую зеленую кнопку Reload наверху. \n",
        "\n",
        "Готово! Перейдя по ссылке `http://ВАШ_ЮЗЕРНЕЙМ.pythonanywhere.com/`, мы можем проверить, заработал ли фласк: мы должны увидеть там \"ок\". А можно сразу пойти в телеграм, и написать сообщение своему боту.\n",
        "\n",
        "Если что-то пошло не так, и вы не видите \"ок\", то нужно проверить логи: они находятся во вкладке Веб (__Web__) в секции `Log files`. "
      ]
    },
    {
      "cell_type": "markdown",
      "metadata": {
        "id": "KApRgApVbYiV"
      },
      "source": [
        "## Запуск бота на Heroku\n",
        "\n",
        "[хендаут](https://github.com/ancatmara/learnpython2018/blob/master/Lessons/Heroku%20%D0%B8%20%D0%BA%D0%BE%D0%BC%D0%B0%D0%BD%D0%B4%D0%BD%D0%B0%D1%8F%20%D1%81%D1%82%D1%80%D0%BE%D0%BA%D0%B0/13a.%20Heroku.md)"
      ]
    }
  ]
}