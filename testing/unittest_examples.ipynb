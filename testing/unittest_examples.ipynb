{
 "cells": [
  {
   "cell_type": "markdown",
   "metadata": {},
   "source": [
    "# Тестирование"
   ]
  },
  {
   "cell_type": "code",
   "execution_count": 1,
   "metadata": {},
   "outputs": [],
   "source": [
    "import datetime\n",
    "import re\n",
    "from typing import Optional"
   ]
  },
  {
   "cell_type": "code",
   "execution_count": 2,
   "metadata": {},
   "outputs": [],
   "source": [
    "import unittest\n",
    "import doctest"
   ]
  },
  {
   "cell_type": "code",
   "execution_count": 7,
   "metadata": {},
   "outputs": [],
   "source": [
    "class RuDateParser:\n",
    "\n",
    "    def parse_numeric(self, date: str) -> Optional[datetime.datetime]: \n",
    "        \"\"\" \n",
    "        Парсит даты в формате dd-mm-yyyy\n",
    "\n",
    "        >>> RuDateParser().parse_numeric('01-12-2010')\n",
    "        datetime.datetime(2010, 12, 1, 0, 0)\n",
    "\n",
    "        >>> RuDateParser().parse_numeric('01/12/2010')\n",
    "\n",
    "        >>> RuDateParser().parse_numeric('не дата')\n",
    "        \"\"\"\n",
    "        if not isinstance(date, str):\n",
    "            raise TypeError\n",
    "        # \\d - digit, то же самое, что [0-9]\n",
    "        if not re.match('\\d{2}-\\d{2}-\\d{4}', date): \n",
    "            return None\n",
    "        date_splitted = date.split('-')\n",
    "        day = int(date_splitted[0])\n",
    "        month = int(date_splitted[1])\n",
    "        year = int(date_splitted[2])\n",
    "        return datetime.datetime(day=day, month=month, year=year)"
   ]
  },
  {
   "cell_type": "code",
   "execution_count": 12,
   "metadata": {
    "scrolled": false
   },
   "outputs": [
    {
     "name": "stderr",
     "output_type": "stream",
     "text": [
      "....\n",
      "----------------------------------------------------------------------\n",
      "Ran 4 tests in 0.004s\n",
      "\n",
      "OK\n"
     ]
    }
   ],
   "source": [
    "class RuDateParserTestCase(unittest.TestCase):\n",
    "    def setUp(self):\n",
    "        self.parser = RuDateParser()\n",
    "\n",
    "    # тестируем поведение при правильных входных данных\n",
    "    def test_parse_numeric_matching_string(self):\n",
    "        self.assertEqual(datetime.datetime(day=12, month=1, year=2020), \n",
    "                         self.parser.parse_numeric('12-01-2020'))\n",
    "        \n",
    "    # тестируем поведение при вводе строки, не содержащей дату в нужном формате\n",
    "    def test_parse_numeric_unmatching_string(self):\n",
    "        self.assertEqual(None, self.parser.parse_numeric('12/01/2020'))\n",
    "        \n",
    "    # тестируем поведение при неправильном типе входных данных\n",
    "    def test_parse_numeric_incorrect_input_type(self):\n",
    "        self.assertRaises(TypeError, self.parser.parse_numeric, 123)\n",
    "    \n",
    "# запустить все тесты\n",
    "if __name__ == '__main__':\n",
    "#     unittest.main()  # если запускаем в нормальном месте\n",
    "    unittest.main(argv=['first-arg-is-ignored'], exit=False) # если запускаем в jupyter"
   ]
  },
  {
   "cell_type": "markdown",
   "metadata": {},
   "source": [
    "**Задание:** \n",
    "1. Подумать, какой ввод сломает метод parse_numeric (он выдаст ошибку, но не поднятую нами TypeError), что мы не учли при написании метода\n",
    "2. Исправить метод  \n",
    "3. Дописать соответсвующий тест\n",
    "4. Запустить тесты не в тетрадке"
   ]
  },
  {
   "cell_type": "markdown",
   "metadata": {},
   "source": [
    "## Запуск тестов "
   ]
  },
  {
   "cell_type": "markdown",
   "metadata": {},
   "source": [
    "### командная строка"
   ]
  },
  {
   "cell_type": "markdown",
   "metadata": {},
   "source": [
    "+ все тесты в проекте: ```python -m unittest discover ```\n",
    "+ все тесты в модуле: ``` python -m unittest tests.test_something ```\n",
    "+ все тесты в классе (тест-кейсе): \n",
    "``` python -m unittest tests.test_something.SomeTestCase ```\n",
    "+ с измерением coverage: \\\n",
    "``` coverage run -m unittest ... ``` \\\n",
    "затем ``` coverage report -m ```\n",
    "\n",
    "\n",
    "Флаг ***-m*** означает, что интерпретор найдет модуль/пакет с нужным именем и запустит его как  [***\\_\\_main\\_\\_***](https://docs.python.org/3/library/__main__.html#module-__main__), расширение (***.py***) писать не нужно ([документация](https://docs.python.org/3/using/cmdline.html#cmdoption-m)).\n",
    "\n",
    "Чтобы unittest.discover правильно находил тесты, все папки с ними должны быть импортируемымми пакетами (packages), то есть иметь в себе \\_\\_init\\_\\_\n",
    "https://stackoverflow.com/questions/5088960/python-m-unittest-discover-does-not-discover-tests"
   ]
  },
  {
   "cell_type": "markdown",
   "metadata": {},
   "source": [
    "### PyCharm"
   ]
  },
  {
   "cell_type": "markdown",
   "metadata": {},
   "source": [
    "+ правой кнопкой мыши на папку/файл/класс, выбрать run 'Unittest in ... (with Coverage)'\n",
    "![](https://webdevblog.ru/wp-content/uploads/2019/04/py_run_test_folder.png)\n",
    "+ или нажать на зеленую стрелку рядом с тем местом, которое хотим запустить"
   ]
  },
  {
   "cell_type": "markdown",
   "metadata": {},
   "source": [
    "## Хорошие тесты"
   ]
  },
  {
   "cell_type": "markdown",
   "metadata": {},
   "source": [
    "+ один юнит-тест проверяет только один фрагмент кода\n",
    "+ все юнит-тесты работают независимо. все тесты можно запустить по отдельности и в любом порядке\n",
    "+ должны проверяться все варианты развития событий и все побочные эффекты"
   ]
  },
  {
   "cell_type": "code",
   "execution_count": 1,
   "metadata": {},
   "outputs": [],
   "source": [
    "# объект который хранит состояние\n",
    "class MemoryPlus:\n",
    "    \n",
    "    def __init__(self):\n",
    "        self._memory = []\n",
    "    \n",
    "    def plus_ten(self, number):\n",
    "        self._memory.append(number)\n",
    "        return number + 10\n",
    "    \n",
    "    @property\n",
    "    def memory(self):\n",
    "        return self._memory"
   ]
  },
  {
   "cell_type": "code",
   "execution_count": 2,
   "metadata": {},
   "outputs": [
    {
     "name": "stderr",
     "output_type": "stream",
     "text": [
      ".\n",
      "----------------------------------------------------------------------\n",
      "Ran 1 test in 0.001s\n",
      "\n",
      "OK\n"
     ]
    }
   ],
   "source": [
    "# плохие юнит-тесты - не смотрим на побочные эффекты (добавилось ли значение в memory)\n",
    "import unittest\n",
    "class MemoryPlusTestCase(unittest.TestCase):\n",
    "    \n",
    "    def setUp(self):\n",
    "        self.mem_plus = MemoryPlus()\n",
    "    \n",
    "    def test_plus_ten(self):\n",
    "        result = self.mem_plus.plus_ten(1)\n",
    "        assert result == 11\n",
    "\n",
    "if __name__ == '__main__':\n",
    "#     unittest.main()  # если запускаем в нормальном месте\n",
    "    unittest.main(argv=['first-arg-is-ignored'], exit=False) # если запускаем в jupyter        "
   ]
  },
  {
   "cell_type": "code",
   "execution_count": 5,
   "metadata": {},
   "outputs": [
    {
     "name": "stderr",
     "output_type": "stream",
     "text": [
      "F.\n",
      "======================================================================\n",
      "FAIL: test_memory (__main__.MemoryPlusTestCase)\n",
      "----------------------------------------------------------------------\n",
      "Traceback (most recent call last):\n",
      "  File \"<ipython-input-5-e50c72b8a719>\", line 14, in test_memory\n",
      "    assert self.mem_plus.memory == [1]\n",
      "AssertionError\n",
      "\n",
      "----------------------------------------------------------------------\n",
      "Ran 2 tests in 0.003s\n",
      "\n",
      "FAILED (failures=1)\n"
     ]
    }
   ],
   "source": [
    "# плохие юнит-тесты - test_show_memory зависит от результатов test_plus_ten, \n",
    "# отдельно не будет работать, в другом порядке не будет работать\n",
    "# важное замечание - unittest запускает тесты в алфаитном порядке, а не в написанном\n",
    "import unittest\n",
    "class MemoryPlusTestCase(unittest.TestCase):\n",
    "    \n",
    "    mem_plus = MemoryPlus()\n",
    "    \n",
    "    def test_plus_ten(self):\n",
    "        result = self.mem_plus.plus_ten(1)\n",
    "        assert result == 11\n",
    "        \n",
    "    def test_show_memory(self):\n",
    "        assert self.mem_plus.memory == [1]\n",
    "        \n",
    "if __name__ == '__main__':\n",
    "#     unittest.main()  # если запускаем в нормальном месте\n",
    "    unittest.main(argv=['first-arg-is-ignored'], exit=False) # если запускаем в jupyter        "
   ]
  },
  {
   "cell_type": "code",
   "execution_count": 2,
   "metadata": {},
   "outputs": [
    {
     "name": "stderr",
     "output_type": "stream",
     "text": [
      ".\n",
      "----------------------------------------------------------------------\n",
      "Ran 1 test in 0.001s\n",
      "\n",
      "OK\n"
     ]
    }
   ],
   "source": [
    "# плохие юнит-тесты (хотя не настолько плохие как предыдущие) - напихали все в один тест\n",
    "# код не выполнится дальше первого проваленного assert \n",
    "# и не получится узнать сразу не работает только добаление в memory или все остальное тоже\n",
    "import unittest\n",
    "class MemoryPlusTestCase(unittest.TestCase):\n",
    "    \n",
    "    def setUp(self):\n",
    "        self.mem_plus = MemoryPlus()\n",
    "    \n",
    "    def test_plus_ten(self):\n",
    "        result = self.mem_plus.plus_ten(1)\n",
    "        \n",
    "        assert self.mem_plus.memory == [1]\n",
    "        assert result == 11\n",
    "\n",
    "if __name__ == '__main__':\n",
    "#     unittest.main()  # если запускаем в нормальном месте\n",
    "    unittest.main(argv=['first-arg-is-ignored'], exit=False) # если запускаем в jupyter        "
   ]
  },
  {
   "cell_type": "code",
   "execution_count": 4,
   "metadata": {},
   "outputs": [
    {
     "name": "stderr",
     "output_type": "stream",
     "text": [
      "..\n",
      "----------------------------------------------------------------------\n",
      "Ran 2 tests in 0.002s\n",
      "\n",
      "OK\n"
     ]
    }
   ],
   "source": [
    "# нормальные юнит-тесты\n",
    "import unittest\n",
    "class MemoryPlusTestCase(unittest.TestCase):\n",
    "    \n",
    "    def setUp(self):\n",
    "        self.mem_plus = MemoryPlus()\n",
    "    \n",
    "    def test_plus_ten(self):\n",
    "        result = self.mem_plus.plus_ten(1)\n",
    "        assert result == 11\n",
    "        \n",
    "    def test_memory(self):\n",
    "        self.mem_plus.plus_ten(1)\n",
    "        assert self.mem_plus.memory == [1]\n",
    "\n",
    "if __name__ == '__main__':\n",
    "#     unittest.main()  # если запускаем в нормальном месте\n",
    "    unittest.main(argv=['first-arg-is-ignored'], exit=False) # если запускаем в jupyter        "
   ]
  },
  {
   "cell_type": "markdown",
   "metadata": {},
   "source": [
    "### Coverage"
   ]
  },
  {
   "cell_type": "markdown",
   "metadata": {},
   "source": [
    "+  Значение coverage (покрытия кода тестами) - % строчек кода, которые были запущены во время выполнения тестов\n",
    "+ 100% покрытие не гарантирует того, что тесты хорошие и достаточные\n",
    "+ Но хорошие и достаточные тесты должны (в идеале) обеспечивать 100% покрытие\n",
    "+ [Документация](https://coverage.readthedocs.io/en/coverage-5.4/)"
   ]
  },
  {
   "cell_type": "code",
   "execution_count": null,
   "metadata": {},
   "outputs": [],
   "source": [
    "!pip install coverage"
   ]
  },
  {
   "cell_type": "markdown",
   "metadata": {},
   "source": [
    "**Задание:**\n",
    "1. Реализовать метод parse_natural (по аналогии с parse_numeric), сделать так, чтобы он не ломался при любом вводе. \n",
    "2. Запустить doctest и проверить, что все хорошо. \n",
    "2. Написать к нему тесты используя unittest. \n",
    "4. Добиться 100% покрытия кода тестами (или близкого к 100)"
   ]
  },
  {
   "cell_type": "code",
   "execution_count": 10,
   "metadata": {},
   "outputs": [],
   "source": [
    "import datetime\n",
    "import re\n",
    "from typing import Optional\n",
    "\n",
    "class RuDateParser:\n",
    "    \n",
    "    def parse_natural(self, date: str) -> Optional[datetime.datetime]: \n",
    "        \"\"\" \n",
    "        Парсит даты в формате dd MMMM yyyy на русском языке\n",
    "\n",
    "        >>> RuDateParser().parse_natural('1 января 2010')\n",
    "        datetime.datetime(2010, 1, 1, 0, 0)\n",
    "\n",
    "        >>> RuDateParser().parse_natural('1 Января 2010')\n",
    "        datetime.datetime(2010, 1, 1, 0, 0)\n",
    "\n",
    "        >>> RuDateParser().parse_natural('01 января 2010')\n",
    "        datetime.datetime(2010, 1, 1, 0, 0)\n",
    "        \n",
    "        >>> RuDateParser().parse_natural('не дата')\n",
    "        \"\"\"\n",
    "        pass"
   ]
  },
  {
   "cell_type": "markdown",
   "metadata": {},
   "source": [
    "## Динамическая генерация тестов"
   ]
  },
  {
   "cell_type": "markdown",
   "metadata": {},
   "source": [
    "+ Нужно сделать много однотипных тестов (одна и та же функция/метод и т.д.)\n",
    "+ Отличаются только входное значение и ожидаемый результат\n",
    "+ Лучше не писать кучу почти одинакового кода, а генерировать тесты динамически. "
   ]
  },
  {
   "cell_type": "code",
   "execution_count": null,
   "metadata": {},
   "outputs": [],
   "source": [
    "def parse_name(name):\n",
    "    parts = name.strip().split()\n",
    "    surname, name, patr = '', '', ''\n",
    "    if len(parts) == 1:\n",
    "        name = parts[0]\n",
    "    elif len(parts) == 2:\n",
    "        surname, name = parts[0], parts[1]\n",
    "    elif len(parts) == 3:\n",
    "        surname, name, patr = parts\n",
    "    elif len(parts) > 3:\n",
    "        surname, name, patr = parts[0], ' '.join(parts[1:-1]), parts[-1]\n",
    "    return surname, name, patr"
   ]
  },
  {
   "cell_type": "code",
   "execution_count": null,
   "metadata": {},
   "outputs": [],
   "source": [
    "import unittest\n",
    "class ParseNameTestCase(unittest.TestCase):\n",
    "    def test_one_word(self):\n",
    "        self.assertEqual(('', 'Петр', ''), parse_name('Петр'))\n",
    "    def test_two_words(self):\n",
    "        self.assertEqual(('Петров', 'Петр', ''), parse_name('Петров Петр'))\n",
    "    def test_three_words(self):\n",
    "        self.assertEqual(('Петров', 'Петр', 'Петрович'), \n",
    "                         parse_name('Петров Петр Петрович'))\n",
    "    def test_more_words(self):\n",
    "        self.assertEqual(('Петрова', 'Анна Мария', 'Васильевна'), \n",
    "                         parse_name('Петрова Анна Мария Васильевна'))\n",
    "    def test_no_words(self):\n",
    "        self.assertEqual(('', '', ''), parse_name(''))\n",
    "        \n",
    "if __name__ == \"__main__\":\n",
    "    unittest.main(argv=['first-arg-is-ignored'], exit=False)"
   ]
  },
  {
   "cell_type": "markdown",
   "metadata": {},
   "source": [
    "Cпособ 1 - просто в цикле:\n",
    "+ все данные проверяются в одном тесте\n",
    "+ метод прекращает работу после первой AssertionError\n",
    "+ все что дальше не проверяется "
   ]
  },
  {
   "cell_type": "code",
   "execution_count": null,
   "metadata": {},
   "outputs": [],
   "source": [
    "import unittest\n",
    "class ParseNameTestCase(unittest.TestCase):\n",
    "    def test_valid_name_parsing(self):\n",
    "        for parsed_name, name in [\n",
    "            (('', 'Петр', ''), ('Петр')),\n",
    "            (('Петров', 'Петр', ''), ('Петров Петр')),\n",
    "            (('Петров', 'Петр', 'Петрович'), ('Петров Петр Петрович')),\n",
    "            (('Петрова', 'Анна Мария', 'Васильевна'), ('Петрова Анна Мария Васильевна')),\n",
    "            (('', '', ''), (''))]:\n",
    "            self.assertEqual(parsed_name, parse_name(name))\n",
    "        \n",
    "if __name__ == \"__main__\":\n",
    "    unittest.main(argv=['first-arg-is-ignored'], exit=False)"
   ]
  },
  {
   "cell_type": "markdown",
   "metadata": {},
   "source": [
    "Cпособ 2 (он лучше) - c помощью пакета ***parametErized*** (не путать с parameTRized без e):\n",
    "+ на каждую пару генерируется отдельный независимый тест\n",
    "+ точно понятно, что именно пошло не так\n",
    "+ один упавший тест не влияет на все остальные"
   ]
  },
  {
   "cell_type": "code",
   "execution_count": null,
   "metadata": {},
   "outputs": [],
   "source": [
    "!pip install parameterized\n",
    "from parameterized import parameterized "
   ]
  },
  {
   "cell_type": "code",
   "execution_count": null,
   "metadata": {
    "scrolled": true
   },
   "outputs": [],
   "source": [
    "import unittest\n",
    "class ParseNameTestCase(unittest.TestCase):\n",
    "    @parameterized.expand(\n",
    "        [(('', 'Петр', ''), ('Петр')),\n",
    "         (('Петров', 'Петр', ''), ('Петров Петр')),\n",
    "         (('Петров', 'Петр', 'Петрович'), ('Петров Петр Петрович')),\n",
    "         (('Петрова', 'Анна Мария', 'Васильевна'), ('Петрова Анна Мария Васильевна')),\n",
    "         (('', '', ''), (''))])\n",
    "    def test_valid_name_parsing(self, parsed_name, name):\n",
    "        self.assertEqual(parsed_name, parse_name(name))\n",
    "        \n",
    "if __name__ == \"__main__\":\n",
    "    unittest.main(argv=['first-arg-is-ignored'], exit=False)"
   ]
  },
  {
   "cell_type": "markdown",
   "metadata": {},
   "source": [
    "**Задание**:\n",
    "   + переписать тесты для parse_numeric с использованием parameterized"
   ]
  },
  {
   "cell_type": "code",
   "execution_count": null,
   "metadata": {},
   "outputs": [],
   "source": [
    "import datetime\n",
    "import re\n",
    "from typing import Optional\n",
    "\n",
    "class RuDateParser:\n",
    "\n",
    "    def parse_numeric(self, date): \n",
    "        \"\"\" \n",
    "        Парсит даты в формате dd-mm-yyyy\n",
    "\n",
    "        >>> RuDateParser().parse_numeric('01-12-2010')\n",
    "        datetime.datetime(2010, 12, 1, 0, 0)\n",
    "\n",
    "        >>> RuDateParser().parse_numeric('01/12/2010')\n",
    "\n",
    "        >>> RuDateParser().parse_numeric('не дата')\n",
    "        \"\"\"\n",
    "        if not isinstance(date, str):\n",
    "            raise TypeError\n",
    "        # \\d - digit, то же самое, что [0-9]\n",
    "        elif not re.match('\\d{2}-\\d{2}-\\d{4}', date): \n",
    "            return None\n",
    "        date_splitted = date.split('-')\n",
    "        day = int(date_splitted[0])\n",
    "        month = int(date_splitted[1])\n",
    "        year = int(date_splitted[2]) \n",
    "        try:\n",
    "            return datetime.datetime(day=day, month=month, year=year)\n",
    "        except ValueError:\n",
    "            return None"
   ]
  },
  {
   "cell_type": "code",
   "execution_count": null,
   "metadata": {},
   "outputs": [],
   "source": [
    "import unittest\n",
    "class RuDateParserTestCase(unittest.TestCase):\n",
    "    \n",
    "    def setUp(self):\n",
    "        self.parser = RuDateParser()\n",
    "        \n",
    "    def tearDown(self):\n",
    "        pass\n",
    "\n",
    "    # тестируем поведение при правильных входных данных\n",
    "    def test_parse_numeric_matching_string(self):\n",
    "        self.assertEqual(datetime.datetime(day=12, month=1, year=2020), \n",
    "                         self.parser.parse_numeric('12-01-2020'))\n",
    "        \n",
    "    # тестируем поведение при вводе строки, не содержащей дату в нужном формате\n",
    "    def test_parse_numeric_unmatching_string(self):\n",
    "        self.assertEqual(None, self.parser.parse_numeric('12/01/2020'))\n",
    "        \n",
    "    def test_parse_numeric_day_too_large(self):\n",
    "        self.assertEqual(None, self.parser.parse_numeric('52-01-2020'))\n",
    "        \n",
    "    def test_parse_numeric_month_too_large(self):\n",
    "        self.assertEqual(None, self.parser.parse_numeric('21-21-2020'))\n",
    "        \n",
    "    def test_parse_numeric_day_zero(self):\n",
    "        self.assertEqual(None, self.parser.parse_numeric('00-01-2020'))\n",
    "        \n",
    "    def test_parse_numeric_month_zero(self):\n",
    "        self.assertEqual(None, self.parser.parse_numeric('01-00-2020'))\n",
    "        \n",
    "    # тестируем поведение при неправильном типе входных данных\n",
    "    def test_parse_numeric_incorrect_input_type(self):\n",
    "        self.assertRaises(TypeError, self.parser.parse_numeric, 123)\n",
    "\n",
    "# запустить все тесты\n",
    "if __name__ == '__main__':\n",
    "    unittest.main(argv=['first-arg-is-ignored'], exit=False) # colab"
   ]
  },
  {
   "cell_type": "markdown",
   "metadata": {},
   "source": [
    "## Что еще полезного есть в unittest"
   ]
  },
  {
   "cell_type": "markdown",
   "metadata": {},
   "source": [
    "### Пропуск тестов\n",
    "+ если какие-то тесты нужны/должны работать только при определенных условиях"
   ]
  },
  {
   "cell_type": "code",
   "execution_count": null,
   "metadata": {},
   "outputs": [],
   "source": [
    "# # это не рабочий код, он для примера и пояснения\n",
    "class MyTestCase(unittest.TestCase):\n",
    "    @unittest.skip(\"demonstrating skipping\")\n",
    "    def test_nothing(self):\n",
    "        self.fail(\"shouldn't happen\")\n",
    "\n",
    "    @unittest.skipIf(mylib.__version__ < (1, 3),\n",
    "                     \"not supported in this library version\")\n",
    "    def test_format(self):\n",
    "        # Tests that work for only a certain version of the library.\n",
    "        pass\n",
    "\n",
    "    @unittest.skipUnless(sys.platform.startswith(\"win\"), \"requires Windows\")\n",
    "    def test_windows_support(self):\n",
    "        # windows specific testing code\n",
    "        pass\n",
    "\n",
    "    def test_maybe_skipped(self):\n",
    "        if not external_resource_available():\n",
    "            self.skipTest(\"external resource not available\")\n",
    "        # test code that depends on the external resource\n",
    "        pass"
   ]
  },
  {
   "cell_type": "code",
   "execution_count": null,
   "metadata": {},
   "outputs": [],
   "source": [
    "import unittest\n",
    "def parse_name(name):\n",
    "    parts = name.strip().split()\n",
    "    surname, name, patr = '', '', ''\n",
    "    if len(parts) == 1:\n",
    "        name = parts[0]\n",
    "    elif len(parts) == 2:\n",
    "        surname, name = parts[0], parts[1]\n",
    "    elif len(parts) == 3:\n",
    "        surname, name, patr = parts\n",
    "    elif len(parts) > 3:\n",
    "        surname, name, patr = parts[0], ' '.join(parts[1:-1]), parts[-1]\n",
    "    return surname, name, patr\n",
    "\n",
    "class ParseNameTestCase(unittest.TestCase):\n",
    "    @parameterized.expand(\n",
    "        [(('', 'Петр', ''), ('Петр')),\n",
    "         (('Петров', 'Петр', ''), ('Петров Петр')),\n",
    "         (('Петров', 'Петр', 'Петрович'), ('Петров Петр Петрович')),\n",
    "         (('Петрова', 'Анна Мария', 'Васильевна'), ('Петрова Анна Мария Васильевна')),\n",
    "         (('', '', ''), (''))])\n",
    "    def test_valid_name_parsing(self, parsed_name, name):\n",
    "        self.assertEqual(parsed_name, parse_name(name))\n",
    "        \n",
    "    @unittest.skip(\"this feature is not implemented yet\")    \n",
    "    def test_wrong_type(self):\n",
    "        self.assertEqual(('', '', ''), parse_name(None))\n",
    "        \n",
    "if __name__ == \"__main__\":\n",
    "    unittest.main(argv=['first-arg-is-ignored'], exit=False)"
   ]
  },
  {
   "cell_type": "markdown",
   "metadata": {},
   "source": [
    "## Структура проекта c тестами"
   ]
  },
  {
   "cell_type": "markdown",
   "metadata": {},
   "source": [
    "+ все тесты в отдельной папке, название test или tests\n",
    "+ лучше превратить в пакет - добавить \\_\\_init\\_\\_.py (можно пустой)\n",
    "+ названия файлов с тестами начинаются с test_"
   ]
  },
  {
   "cell_type": "markdown",
   "metadata": {},
   "source": [
    "```\n",
    "├── project root directory      \n",
    "   ├── main project directory\n",
    "   │   ├── ...\n",
    "   │   ├── ...\n",
    "   │    \n",
    "   └── tests\n",
    "       ├── __init__.py\n",
    "       ├── test_*.py\n",
    "       └── test_*.py \n",
    "\n",
    "```"
   ]
  }
 ],
 "metadata": {
  "kernelspec": {
   "display_name": "Python 3",
   "language": "python",
   "name": "python3"
  },
  "language_info": {
   "codemirror_mode": {
    "name": "ipython",
    "version": 3
   },
   "file_extension": ".py",
   "mimetype": "text/x-python",
   "name": "python",
   "nbconvert_exporter": "python",
   "pygments_lexer": "ipython3",
   "version": "3.7.4"
  }
 },
 "nbformat": 4,
 "nbformat_minor": 2
}
