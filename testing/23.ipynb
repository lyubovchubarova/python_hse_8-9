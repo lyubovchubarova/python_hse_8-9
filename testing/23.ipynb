{
 "cells": [
  {
   "cell_type": "markdown",
   "metadata": {},
   "source": [
    "# Введение в тестирование"
   ]
  },
  {
   "cell_type": "markdown",
   "metadata": {},
   "source": [
    "## Виды тестирования"
   ]
  },
  {
   "cell_type": "markdown",
   "metadata": {},
   "source": [
    "![](https://orkhanalyshov.com/media/uploads/files/testing.jpg)"
   ]
  },
  {
   "cell_type": "markdown",
   "metadata": {},
   "source": [
    "- **Модульные тесты (Unit tests)** - проверка на корректность всех компонентов проекта по отдельности. Пишем отдельный тест для каждой нетривиальной функции/метода. \n",
    "- **Интеграционные тесты (Integration tests)** - проверка на работоспособность проекта в целом. Все компоненты собираются вместе (код, база данных/файловая система/любая другая третья сторона) и проверяются в разных средах (разные ос/версии питона и т.д.). Более сложная настройка - подготовить среду тестирования, установить все зависимости. \n",
    "- **Функциональные тесты (Functional tests)** - проверка работы проекта с точки зрения пользователя, проверяем, что все работает так, как и задумывалось. "
   ]
  },
  {
   "cell_type": "markdown",
   "metadata": {},
   "source": [
    "### Зачем писать юнит-тесты"
   ]
  },
  {
   "cell_type": "markdown",
   "metadata": {},
   "source": [
    "* Понять, что все работает\n",
    "* Проверить что код ведет себя как надо и его поведение определено во всех случаях\n",
    "* Подумать еще раз о крайних случаях, проверить их\n",
    "* Проверить что ничего не сломалось после изменения кода/добавления новой функциональности\n",
    "* Понять что именно сломалось, если сломалось \n",
    "* **TDD (Test Driven Development)** - один из подходов к разработке: сначала пишутся тесты, потом функционал, который их проходит.\n"
   ]
  },
  {
   "cell_type": "markdown",
   "metadata": {},
   "source": [
    "## Doctest"
   ]
  },
  {
   "cell_type": "markdown",
   "metadata": {},
   "source": [
    "Модуль doctest \n",
    "* находит части докстрингов, которые выглядят как интерактивные сессии питона \n",
    "* выполняет эти сессии\n",
    "* проверяет, что результат выполнения кода соответствует написанному в документации"
   ]
  },
  {
   "cell_type": "code",
   "execution_count": 13,
   "metadata": {},
   "outputs": [],
   "source": [
    "import datetime\n",
    "import re\n",
    "from typing import Optional\n",
    "\n",
    "\n",
    "class RuDateParser:\n",
    "\n",
    "    # Optional значит, что возвращаеся либо объект указанного типа, либо None\n",
    "    def parse_numeric(self, date: str) -> Optional[datetime.datetime]: \n",
    "        \"\"\" \n",
    "        Парсит даты в формате dd-mm-yyyy\n",
    "\n",
    "        >>> RuDateParser().parse_numeric('01-12-2010')\n",
    "        datetime.datetime(2010, 12, 1, 0, 0)\n",
    "\n",
    "        >>> RuDateParser().parse_numeric('01/12/2010')\n",
    "\n",
    "        >>> RuDateParser().parse_numeric('не дата')\n",
    "        \"\"\"\n",
    "#         if not isinstance(date, str):\n",
    "#             raise TypeError\n",
    "        # \\d - digit, то же самое, что [0-9]\n",
    "        if not re.match('\\d{2}-\\d{2}-\\d{4}', date): \n",
    "            return None\n",
    "        date_splitted = date.split('-')\n",
    "        day = int(date_splitted[0])\n",
    "        month = int(date_splitted[1])\n",
    "        year = int(date_splitted[2]) \n",
    "        return datetime.datetime(day=day, month=month, year=year)\n"
   ]
  },
  {
   "cell_type": "code",
   "execution_count": 17,
   "metadata": {},
   "outputs": [],
   "source": [
    "a = 123"
   ]
  },
  {
   "cell_type": "code",
   "execution_count": 20,
   "metadata": {},
   "outputs": [
    {
     "ename": "TypeError",
     "evalue": "expected string or bytes-like object",
     "output_type": "error",
     "traceback": [
      "\u001b[0;31m---------------------------------------------------------------------------\u001b[0m",
      "\u001b[0;31mTypeError\u001b[0m                                 Traceback (most recent call last)",
      "\u001b[0;32m<ipython-input-20-8a8a2d2b3303>\u001b[0m in \u001b[0;36m<module>\u001b[0;34m\u001b[0m\n\u001b[0;32m----> 1\u001b[0;31m \u001b[0mre\u001b[0m\u001b[0;34m.\u001b[0m\u001b[0mmatch\u001b[0m\u001b[0;34m(\u001b[0m\u001b[0;34m'\\d{2}-\\d{2}-\\d{4}'\u001b[0m\u001b[0;34m,\u001b[0m \u001b[0ma\u001b[0m\u001b[0;34m)\u001b[0m\u001b[0;34m\u001b[0m\u001b[0;34m\u001b[0m\u001b[0m\n\u001b[0m",
      "\u001b[0;32m~/anaconda3/lib/python3.7/re.py\u001b[0m in \u001b[0;36mmatch\u001b[0;34m(pattern, string, flags)\u001b[0m\n\u001b[1;32m    171\u001b[0m     \"\"\"Try to apply the pattern at the start of the string, returning\n\u001b[1;32m    172\u001b[0m     a Match object, or None if no match was found.\"\"\"\n\u001b[0;32m--> 173\u001b[0;31m     \u001b[0;32mreturn\u001b[0m \u001b[0m_compile\u001b[0m\u001b[0;34m(\u001b[0m\u001b[0mpattern\u001b[0m\u001b[0;34m,\u001b[0m \u001b[0mflags\u001b[0m\u001b[0;34m)\u001b[0m\u001b[0;34m.\u001b[0m\u001b[0mmatch\u001b[0m\u001b[0;34m(\u001b[0m\u001b[0mstring\u001b[0m\u001b[0;34m)\u001b[0m\u001b[0;34m\u001b[0m\u001b[0;34m\u001b[0m\u001b[0m\n\u001b[0m\u001b[1;32m    174\u001b[0m \u001b[0;34m\u001b[0m\u001b[0m\n\u001b[1;32m    175\u001b[0m \u001b[0;32mdef\u001b[0m \u001b[0mfullmatch\u001b[0m\u001b[0;34m(\u001b[0m\u001b[0mpattern\u001b[0m\u001b[0;34m,\u001b[0m \u001b[0mstring\u001b[0m\u001b[0;34m,\u001b[0m \u001b[0mflags\u001b[0m\u001b[0;34m=\u001b[0m\u001b[0;36m0\u001b[0m\u001b[0;34m)\u001b[0m\u001b[0;34m:\u001b[0m\u001b[0;34m\u001b[0m\u001b[0;34m\u001b[0m\u001b[0m\n",
      "\u001b[0;31mTypeError\u001b[0m: expected string or bytes-like object"
     ]
    }
   ],
   "source": [
    "re.match('\\d{2}-\\d{2}-\\d{4}', a) "
   ]
  },
  {
   "cell_type": "code",
   "execution_count": 2,
   "metadata": {},
   "outputs": [
    {
     "data": {
      "text/plain": [
       "datetime.datetime(2010, 12, 1, 0, 0)"
      ]
     },
     "execution_count": 2,
     "metadata": {},
     "output_type": "execute_result"
    }
   ],
   "source": [
    "parser = RuDateParser()\n",
    "parser.parse_numeric('01-12-2010')"
   ]
  },
  {
   "cell_type": "code",
   "execution_count": 3,
   "metadata": {},
   "outputs": [],
   "source": [
    "import doctest"
   ]
  },
  {
   "cell_type": "code",
   "execution_count": 6,
   "metadata": {},
   "outputs": [
    {
     "data": {
      "text/plain": [
       "TestResults(failed=0, attempted=3)"
      ]
     },
     "execution_count": 6,
     "metadata": {},
     "output_type": "execute_result"
    }
   ],
   "source": [
    "doctest.testmod()"
   ]
  },
  {
   "cell_type": "markdown",
   "metadata": {},
   "source": [
    "## Юнит-тесты: unittest"
   ]
  },
  {
   "cell_type": "markdown",
   "metadata": {},
   "source": [
    "* каждый самосоятельный блок кода (класс, метод, функция) тестируется отдельно и изолированно\n",
    "* проверяем пары ввод-вывод"
   ]
  },
  {
   "cell_type": "markdown",
   "metadata": {},
   "source": [
    "Давайте напишем юнит-тесты для метода parse_numeric с использованием всторенной библиотеки unittest:\n",
    "* тесты в unittest организуются в группы внутри класса TestCase\n",
    "* обычно - один Test Case для каждого класса/функции (но не всегда)\n",
    "* иногда имеет смысл делать общий TestCase для всего модуля\n",
    "* отдельный тест на каждый вариант развития событий \n",
    "* тесты оформляются в виде методов класса, названия методов начинаются со слова test\n",
    "* можно писать свои вспомогательные методы (которые не являются тестами), главное, чтобы их называния не начинались с test"
   ]
  },
  {
   "cell_type": "code",
   "execution_count": 14,
   "metadata": {},
   "outputs": [
    {
     "name": "stderr",
     "output_type": "stream",
     "text": [
      "...\n",
      "----------------------------------------------------------------------\n",
      "Ran 3 tests in 0.004s\n",
      "\n",
      "OK\n"
     ]
    }
   ],
   "source": [
    "import unittest\n",
    "class RuDateParserTestCase(unittest.TestCase):\n",
    "    def setUp(self):\n",
    "        self.parser = RuDateParser()\n",
    "\n",
    "    # тестируем поведение при правильных входных данных\n",
    "    def test_parse_numeric_matching_string(self):\n",
    "        self.assertEqual(datetime.datetime(day=12, month=1, year=2020), \n",
    "                         self.parser.parse_numeric('12-01-2020'))\n",
    "        \n",
    "    # тестируем поведение при вводе строки, не содержащей дату в нужном формате\n",
    "    def test_parse_numeric_unmatching_string(self):\n",
    "        self.assertEqual(None, self.parser.parse_numeric('12/01/2020'))\n",
    "        \n",
    "    # тестируем поведение при неправильном типе входных данных\n",
    "    def test_parse_numeric_incorrect_input_type(self):\n",
    "        self.assertRaises(TypeError, self.parser.parse_numeric, 123)\n",
    "\n",
    "# запустить все тесты\n",
    "if __name__ == '__main__':\n",
    "#     unittest.main()  # если запускаем в нормальном месте\n",
    "    unittest.main(argv=['first-arg-is-ignored'], exit=False) # если запускаем в jupyter"
   ]
  },
  {
   "cell_type": "markdown",
   "metadata": {},
   "source": [
    "### Assert"
   ]
  },
  {
   "cell_type": "markdown",
   "metadata": {},
   "source": [
    "* Стандартная инструкция assert - проверить, истинно ли какое-то выражение в питоне. \n",
    "* Если нет, то поднимается AssertionError. "
   ]
  },
  {
   "cell_type": "code",
   "execution_count": 16,
   "metadata": {},
   "outputs": [
    {
     "ename": "AssertionError",
     "evalue": "",
     "output_type": "error",
     "traceback": [
      "\u001b[0;31m---------------------------------------------------------------------------\u001b[0m",
      "\u001b[0;31mAssertionError\u001b[0m                            Traceback (most recent call last)",
      "\u001b[0;32m<ipython-input-16-bf49920c6370>\u001b[0m in \u001b[0;36m<module>\u001b[0;34m\u001b[0m\n\u001b[1;32m      1\u001b[0m \u001b[0ma\u001b[0m \u001b[0;34m=\u001b[0m \u001b[0;36m2\u001b[0m\u001b[0;34m\u001b[0m\u001b[0;34m\u001b[0m\u001b[0m\n\u001b[0;32m----> 2\u001b[0;31m \u001b[0;32massert\u001b[0m \u001b[0ma\u001b[0m \u001b[0;34m==\u001b[0m \u001b[0;36m1\u001b[0m\u001b[0;34m\u001b[0m\u001b[0;34m\u001b[0m\u001b[0m\n\u001b[0m",
      "\u001b[0;31mAssertionError\u001b[0m: "
     ]
    }
   ],
   "source": [
    "a = 2\n",
    "assert a == 1, 'сообщение которое выведется вместе с AssertionError'"
   ]
  },
  {
   "cell_type": "markdown",
   "metadata": {},
   "source": [
    "В тестах можно использовать встроенный assert или методы класса unittest.TestCase. Если условие под assert не выполняется, то тест помечается непройденным. Полный список в [документации](https://docs.python.org/3/library/unittest.html#unittest.TestCase). \n",
    "* ***assertEqual***_(first, second, msg=None)_  \n",
    "    Test that first and second are equal. If the values do not compare equal, the test will fail.\n",
    "\n",
    "* ***assertNotEqual***_(first, second, msg=None)_  \n",
    "    Test that first and second are not equal. If the values do compare equal, the test will fail.\n",
    "\n",
    "* ***assertTrue***_(expr, msg=None)_      \n",
    "  ***assertFalse***_(expr, msg=None)_      \n",
    "    Test that expr is true (or false).\n",
    "\n",
    "* ***assertIs***_(first, second, msg=None)_   \n",
    "  ***assertIsNot***_(first, second, msg=None)_    \n",
    "    Test that first and second evaluate (or don’t evaluate) to the same object.\n",
    "\n",
    "* ***assertIn***_(first, second, msg=None)_    \n",
    "  ***assertNotIn***_(first, second, msg=None)_     \n",
    "    Test that first is (or is not) in second.\n",
    "\n",
    "* ***assertRaises***_(exception, callable, *args, **kwds)_   \n",
    "    Test that an exception is raised when callable is called with any positional or keyword arguments that are also passed to assertRaises(). The test passes if exception is raised, is an error if another exception is raised, or fails if no exception is raised. To catch any of a group of exceptions, a tuple containing the exception classes may be passed as exception."
   ]
  },
  {
   "cell_type": "markdown",
   "metadata": {},
   "source": [
    "### setUp и tearDown"
   ]
  },
  {
   "cell_type": "markdown",
   "metadata": {},
   "source": [
    " Вспомогательные методы, которые используются, чтобы настроить среду тестирования. Нужны для того, чтобы убедиться, что каждый тест работает изолированно и на него не влияет, например, результат работы прошлого теста\n",
    " * ***setUp()*** - вызывается перед запуском каждого теста.\n",
    " * ***tearDown()*** - вызывается после запуска каждого теста. "
   ]
  },
  {
   "cell_type": "code",
   "execution_count": null,
   "metadata": {},
   "outputs": [],
   "source": [
    "class MyTest(unittest.TestCase):\n",
    "\n",
    "    # создать временную папку перед запуском теста\n",
    "    def setUp(self):\n",
    "        self.test_dir = TemporaryDirectory()\n",
    "\n",
    "    # удалить папку после выполнения теста\n",
    "    def tearDown(self):\n",
    "        self.test_dir.cleanup()\n",
    "\n",
    "    # дальше идут сами тесты, в которых что-то делается с этой папкой "
   ]
  }
 ],
 "metadata": {
  "kernelspec": {
   "display_name": "Python 3",
   "language": "python",
   "name": "python3"
  },
  "language_info": {
   "codemirror_mode": {
    "name": "ipython",
    "version": 3
   },
   "file_extension": ".py",
   "mimetype": "text/x-python",
   "name": "python",
   "nbconvert_exporter": "python",
   "pygments_lexer": "ipython3",
   "version": "3.7.4"
  }
 },
 "nbformat": 4,
 "nbformat_minor": 2
}
